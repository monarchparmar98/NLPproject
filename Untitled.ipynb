{
 "cells": [
  {
   "cell_type": "markdown",
   "id": "25ab51c6",
   "metadata": {},
   "source": [
    "# NLP Project"
   ]
  },
  {
   "cell_type": "markdown",
   "id": "c133646c",
   "metadata": {},
   "source": [
    "### Imports "
   ]
  },
  {
   "cell_type": "code",
   "execution_count": 128,
   "id": "076d635a",
   "metadata": {},
   "outputs": [],
   "source": [
    "import pandas as pd\n",
    "import numpy as np\n",
    "import matplotlib.pyplot as plt\n",
    "import seaborn as sns\n",
    "import string\n",
    "import re\n",
    "from sklearn.feature_extraction.text import TfidfVectorizer\n",
    "from sklearn.decomposition import PCA\n",
    "from sklearn.linear_model import LogisticRegression\n",
    "from sklearn.model_selection import train_test_split\n",
    "from sklearn.preprocessing import LabelEncoder\n",
    "\n",
    "\n",
    "from sklearn.metrics import confusion_matrix\n",
    "from sklearn.metrics import classification_report\n",
    "from sklearn.manifold import TSNE\n",
    "\n",
    "from nltk.tokenize import word_tokenize\n",
    "from nltk.tokenize import sent_tokenize\n",
    "from nltk.stem import WordNetLemmatizer \n",
    "\n",
    "# from imblearn.over_sampling import SMOTE"
   ]
  },
  {
   "cell_type": "code",
   "execution_count": 47,
   "id": "087d56b6",
   "metadata": {},
   "outputs": [],
   "source": [
    "df = pd.read_csv('mtsamples.csv')\n",
    "df = df.dropna()\n",
    "df = df.reset_index(drop=True)\n",
    "df = df.drop(df.columns[0], axis=1)\n",
    "# df = df.dropna(columns)"
   ]
  },
  {
   "cell_type": "code",
   "execution_count": 48,
   "id": "d41dced0",
   "metadata": {},
   "outputs": [],
   "source": [
    "for i,item in enumerate(df['keywords']):\n",
    "    df['keywords'][i] = item.split(', ')"
   ]
  },
  {
   "cell_type": "code",
   "execution_count": 49,
   "id": "286317da",
   "metadata": {},
   "outputs": [
    {
     "data": {
      "text/plain": [
       "['urology',\n",
       " 'tissue flap relocation',\n",
       " 'urethroplasty plate incision',\n",
       " 'penile shaft skin',\n",
       " 'chordee release',\n",
       " 'zaontz catheter',\n",
       " 'penile shaft',\n",
       " 'hypospadias repair',\n",
       " 'flap relocation',\n",
       " 'coronal cuff',\n",
       " 'urethral plate',\n",
       " 'tissue flap',\n",
       " 'hypospadias',\n",
       " 'flap',\n",
       " 'chordee,']"
      ]
     },
     "execution_count": 49,
     "metadata": {},
     "output_type": "execute_result"
    }
   ],
   "source": [
    "df['keywords'][100]"
   ]
  },
  {
   "cell_type": "code",
   "execution_count": 50,
   "id": "ce83261a",
   "metadata": {},
   "outputs": [
    {
     "data": {
      "text/html": [
       "<div>\n",
       "<style scoped>\n",
       "    .dataframe tbody tr th:only-of-type {\n",
       "        vertical-align: middle;\n",
       "    }\n",
       "\n",
       "    .dataframe tbody tr th {\n",
       "        vertical-align: top;\n",
       "    }\n",
       "\n",
       "    .dataframe thead th {\n",
       "        text-align: right;\n",
       "    }\n",
       "</style>\n",
       "<table border=\"1\" class=\"dataframe\">\n",
       "  <thead>\n",
       "    <tr style=\"text-align: right;\">\n",
       "      <th></th>\n",
       "      <th>description</th>\n",
       "      <th>medical_specialty</th>\n",
       "      <th>sample_name</th>\n",
       "      <th>transcription</th>\n",
       "      <th>keywords</th>\n",
       "    </tr>\n",
       "  </thead>\n",
       "  <tbody>\n",
       "    <tr>\n",
       "      <th>0</th>\n",
       "      <td>A 23-year-old white female presents with comp...</td>\n",
       "      <td>Allergy / Immunology</td>\n",
       "      <td>Allergic Rhinitis</td>\n",
       "      <td>SUBJECTIVE:,  This 23-year-old white female pr...</td>\n",
       "      <td>[allergy / immunology, allergic rhinitis, alle...</td>\n",
       "    </tr>\n",
       "    <tr>\n",
       "      <th>1</th>\n",
       "      <td>Consult for laparoscopic gastric bypass.</td>\n",
       "      <td>Bariatrics</td>\n",
       "      <td>Laparoscopic Gastric Bypass Consult - 2</td>\n",
       "      <td>PAST MEDICAL HISTORY:, He has difficulty climb...</td>\n",
       "      <td>[bariatrics, laparoscopic gastric bypass, weig...</td>\n",
       "    </tr>\n",
       "    <tr>\n",
       "      <th>2</th>\n",
       "      <td>Consult for laparoscopic gastric bypass.</td>\n",
       "      <td>Bariatrics</td>\n",
       "      <td>Laparoscopic Gastric Bypass Consult - 1</td>\n",
       "      <td>HISTORY OF PRESENT ILLNESS: , I have seen ABC ...</td>\n",
       "      <td>[bariatrics, laparoscopic gastric bypass, hear...</td>\n",
       "    </tr>\n",
       "    <tr>\n",
       "      <th>3</th>\n",
       "      <td>2-D M-Mode. Doppler.</td>\n",
       "      <td>Cardiovascular / Pulmonary</td>\n",
       "      <td>2-D Echocardiogram - 1</td>\n",
       "      <td>2-D M-MODE: , ,1.  Left atrial enlargement wit...</td>\n",
       "      <td>[cardiovascular / pulmonary, 2-d m-mode, doppl...</td>\n",
       "    </tr>\n",
       "    <tr>\n",
       "      <th>4</th>\n",
       "      <td>2-D Echocardiogram</td>\n",
       "      <td>Cardiovascular / Pulmonary</td>\n",
       "      <td>2-D Echocardiogram - 2</td>\n",
       "      <td>1.  The left ventricular cavity size and wall ...</td>\n",
       "      <td>[cardiovascular / pulmonary, 2-d, doppler, ech...</td>\n",
       "    </tr>\n",
       "    <tr>\n",
       "      <th>5</th>\n",
       "      <td>Morbid obesity.  Laparoscopic antecolic anteg...</td>\n",
       "      <td>Bariatrics</td>\n",
       "      <td>Laparoscopic Gastric Bypass</td>\n",
       "      <td>PREOPERATIVE DIAGNOSIS: , Morbid obesity.,POST...</td>\n",
       "      <td>[bariatrics, gastric bypass, eea anastomosis, ...</td>\n",
       "    </tr>\n",
       "    <tr>\n",
       "      <th>6</th>\n",
       "      <td>Liposuction of the supraumbilical abdomen, re...</td>\n",
       "      <td>Bariatrics</td>\n",
       "      <td>Liposuction</td>\n",
       "      <td>PREOPERATIVE DIAGNOSES:,1.  Deformity, right b...</td>\n",
       "      <td>[bariatrics, breast reconstruction, excess, lm...</td>\n",
       "    </tr>\n",
       "    <tr>\n",
       "      <th>7</th>\n",
       "      <td>2-D Echocardiogram</td>\n",
       "      <td>Cardiovascular / Pulmonary</td>\n",
       "      <td>2-D Echocardiogram - 3</td>\n",
       "      <td>2-D ECHOCARDIOGRAM,Multiple views of the heart...</td>\n",
       "      <td>[cardiovascular / pulmonary, 2-d echocardiogra...</td>\n",
       "    </tr>\n",
       "    <tr>\n",
       "      <th>8</th>\n",
       "      <td>Suction-assisted lipectomy - lipodystrophy of...</td>\n",
       "      <td>Bariatrics</td>\n",
       "      <td>Lipectomy - Abdomen/Thighs</td>\n",
       "      <td>PREOPERATIVE DIAGNOSIS: , Lipodystrophy of the...</td>\n",
       "      <td>[bariatrics, lipodystrophy, abd pads, suction-...</td>\n",
       "    </tr>\n",
       "    <tr>\n",
       "      <th>9</th>\n",
       "      <td>Echocardiogram and Doppler</td>\n",
       "      <td>Cardiovascular / Pulmonary</td>\n",
       "      <td>2-D Echocardiogram - 4</td>\n",
       "      <td>DESCRIPTION:,1.  Normal cardiac chambers size....</td>\n",
       "      <td>[cardiovascular / pulmonary, ejection fraction...</td>\n",
       "    </tr>\n",
       "    <tr>\n",
       "      <th>10</th>\n",
       "      <td>Morbid obesity.  Laparoscopic Roux-en-Y gastr...</td>\n",
       "      <td>Bariatrics</td>\n",
       "      <td>Laparoscopic Gastric Bypass - 1</td>\n",
       "      <td>PREOPERATIVE DIAGNOSIS: , Morbid obesity. ,POS...</td>\n",
       "      <td>[bariatrics, morbid obesity, roux-en-y, gastri...</td>\n",
       "    </tr>\n",
       "    <tr>\n",
       "      <th>11</th>\n",
       "      <td>Normal left ventricle, moderate biatrial enla...</td>\n",
       "      <td>Cardiovascular / Pulmonary</td>\n",
       "      <td>2-D Doppler</td>\n",
       "      <td>2-D STUDY,1. Mild aortic stenosis, widely calc...</td>\n",
       "      <td>[cardiovascular / pulmonary, 2-d study, dopple...</td>\n",
       "    </tr>\n",
       "    <tr>\n",
       "      <th>12</th>\n",
       "      <td>Patient presented to the bariatric surgery se...</td>\n",
       "      <td>Bariatrics</td>\n",
       "      <td>Gastric Bypass Discussion - 3</td>\n",
       "      <td>PAST MEDICAL HISTORY:,  Significant for hypert...</td>\n",
       "      <td>[bariatrics, weight watchers, roux en y, atkin...</td>\n",
       "    </tr>\n",
       "    <tr>\n",
       "      <th>13</th>\n",
       "      <td>Surgical removal of completely bony impacted...</td>\n",
       "      <td>Dentistry</td>\n",
       "      <td>Bony Impacted Teeth Removal</td>\n",
       "      <td>PREOPERATIVE DIAGNOSIS:,  Completely bony impa...</td>\n",
       "      <td>[dentistry, intraoral, bony impacted teeth, th...</td>\n",
       "    </tr>\n",
       "  </tbody>\n",
       "</table>\n",
       "</div>"
      ],
      "text/plain": [
       "                                          description  \\\n",
       "0    A 23-year-old white female presents with comp...   \n",
       "1            Consult for laparoscopic gastric bypass.   \n",
       "2            Consult for laparoscopic gastric bypass.   \n",
       "3                              2-D M-Mode. Doppler.     \n",
       "4                                  2-D Echocardiogram   \n",
       "5    Morbid obesity.  Laparoscopic antecolic anteg...   \n",
       "6    Liposuction of the supraumbilical abdomen, re...   \n",
       "7                                  2-D Echocardiogram   \n",
       "8    Suction-assisted lipectomy - lipodystrophy of...   \n",
       "9                          Echocardiogram and Doppler   \n",
       "10   Morbid obesity.  Laparoscopic Roux-en-Y gastr...   \n",
       "11   Normal left ventricle, moderate biatrial enla...   \n",
       "12   Patient presented to the bariatric surgery se...   \n",
       "13    Surgical removal of completely bony impacted...   \n",
       "\n",
       "              medical_specialty                                sample_name  \\\n",
       "0          Allergy / Immunology                         Allergic Rhinitis    \n",
       "1                    Bariatrics   Laparoscopic Gastric Bypass Consult - 2    \n",
       "2                    Bariatrics   Laparoscopic Gastric Bypass Consult - 1    \n",
       "3    Cardiovascular / Pulmonary                    2-D Echocardiogram - 1    \n",
       "4    Cardiovascular / Pulmonary                    2-D Echocardiogram - 2    \n",
       "5                    Bariatrics               Laparoscopic Gastric Bypass    \n",
       "6                    Bariatrics                               Liposuction    \n",
       "7    Cardiovascular / Pulmonary                    2-D Echocardiogram - 3    \n",
       "8                    Bariatrics                Lipectomy - Abdomen/Thighs    \n",
       "9    Cardiovascular / Pulmonary                    2-D Echocardiogram - 4    \n",
       "10                   Bariatrics           Laparoscopic Gastric Bypass - 1    \n",
       "11   Cardiovascular / Pulmonary                               2-D Doppler    \n",
       "12                   Bariatrics             Gastric Bypass Discussion - 3    \n",
       "13                    Dentistry               Bony Impacted Teeth Removal    \n",
       "\n",
       "                                        transcription  \\\n",
       "0   SUBJECTIVE:,  This 23-year-old white female pr...   \n",
       "1   PAST MEDICAL HISTORY:, He has difficulty climb...   \n",
       "2   HISTORY OF PRESENT ILLNESS: , I have seen ABC ...   \n",
       "3   2-D M-MODE: , ,1.  Left atrial enlargement wit...   \n",
       "4   1.  The left ventricular cavity size and wall ...   \n",
       "5   PREOPERATIVE DIAGNOSIS: , Morbid obesity.,POST...   \n",
       "6   PREOPERATIVE DIAGNOSES:,1.  Deformity, right b...   \n",
       "7   2-D ECHOCARDIOGRAM,Multiple views of the heart...   \n",
       "8   PREOPERATIVE DIAGNOSIS: , Lipodystrophy of the...   \n",
       "9   DESCRIPTION:,1.  Normal cardiac chambers size....   \n",
       "10  PREOPERATIVE DIAGNOSIS: , Morbid obesity. ,POS...   \n",
       "11  2-D STUDY,1. Mild aortic stenosis, widely calc...   \n",
       "12  PAST MEDICAL HISTORY:,  Significant for hypert...   \n",
       "13  PREOPERATIVE DIAGNOSIS:,  Completely bony impa...   \n",
       "\n",
       "                                             keywords  \n",
       "0   [allergy / immunology, allergic rhinitis, alle...  \n",
       "1   [bariatrics, laparoscopic gastric bypass, weig...  \n",
       "2   [bariatrics, laparoscopic gastric bypass, hear...  \n",
       "3   [cardiovascular / pulmonary, 2-d m-mode, doppl...  \n",
       "4   [cardiovascular / pulmonary, 2-d, doppler, ech...  \n",
       "5   [bariatrics, gastric bypass, eea anastomosis, ...  \n",
       "6   [bariatrics, breast reconstruction, excess, lm...  \n",
       "7   [cardiovascular / pulmonary, 2-d echocardiogra...  \n",
       "8   [bariatrics, lipodystrophy, abd pads, suction-...  \n",
       "9   [cardiovascular / pulmonary, ejection fraction...  \n",
       "10  [bariatrics, morbid obesity, roux-en-y, gastri...  \n",
       "11  [cardiovascular / pulmonary, 2-d study, dopple...  \n",
       "12  [bariatrics, weight watchers, roux en y, atkin...  \n",
       "13  [dentistry, intraoral, bony impacted teeth, th...  "
      ]
     },
     "execution_count": 50,
     "metadata": {},
     "output_type": "execute_result"
    }
   ],
   "source": [
    "df.iloc[:14,:]\n"
   ]
  },
  {
   "cell_type": "code",
   "execution_count": 51,
   "id": "0e6ef6a2",
   "metadata": {},
   "outputs": [
    {
     "name": "stdout",
     "output_type": "stream",
     "text": [
      "['000', '08', '10', '100', '11', '12', '13', '14', '15', '15 blade', '16', '18', '19', '20', '24', '25', '30', '40', '45', '50', '60', '70', '80', '90', '92', 'abc', 'abcd', 'abdomen', 'abdomen soft', 'abdominal', 'abdominal pain', 'able', 'abnormal', 'abnormalities', 'abscess', 'achieved', 'active', 'activity', 'acute', 'addition', 'additional', 'adequate', 'adhesions', 'administered', 'admission', 'admitted', 'advanced', 'age', 'ago', 'air', 'alcohol', 'alert', 'allergies', 'allowed', 'alternatives', 'amounts', 'anastomosis', 'anesthesia', 'anesthesia general', 'anesthesia general endotracheal', 'anesthetic', 'angle', 'ankle', 'anterior', 'anterior chamber', 'anteriorly', 'antibiotic', 'antibiotics', 'aorta', 'aortic', 'apparent', 'appear', 'appearance', 'appeared', 'appearing', 'appears', 'applied', 'applied patient', 'appropriate', 'appropriately', 'approximated', 'approximately', 'approximately cm', 'area', 'areas', 'arm', 'arteries', 'artery', 'aspect', 'aspiration', 'assessment', 'associated', 'atrial', 'attention', 'attention directed', 'attention turned', 'auscultation', 'awakened', 'away', 'baby', 'balloon', 'base', 'based', 'bed', 'began', 'benefits', 'betadine', 'better', 'bilateral', 'bilaterally', 'biopsies', 'biopsy', 'bipolar', 'bit', 'bladder', 'blade', 'bleeding', 'block', 'blood', 'blood loss', 'blood pressure', 'blunt', 'blunt dissection', 'body', 'bone', 'bony', 'bovie', 'bowel', 'brain', 'branch', 'breast', 'breath', 'brought', 'brought operating', 'brought operating room', 'bypass', 'c4', 'c5', 'c5 c6', 'c6', 'c7', 'came', 'canal', 'cancer', 'cannula', 'capsular', 'capsule', 'carcinoma', 'cardiac', 'cardiovascular', 'care', 'care taken', 'care unit', 'carefully', 'carotid', 'carotid artery', 'carpal', 'carpal tunnel', 'carried', 'cartilage', 'case', 'catheter', 'cautery', 'cavity', 'cc', 'cell', 'central', 'cervical', 'cervix', 'chamber', 'change', 'changes', 'checked', 'chest', 'chest pain', 'child', 'chromic', 'chronic', 'circumflex', 'clamp', 'clamped', 'clear', 'clinic', 'clinical', 'clock', 'close', 'closed', 'closed running', 'closed using', 'closed vicryl', 'closure', 'cm', 'colon', 'common', 'complaint', 'complete', 'completed', 'completely', 'completion', 'complex', 'complications', 'component', 'compression', 'condition', 'confirmed', 'consent', 'consent obtained', 'consent obtained patient', 'consistent', 'continue', 'continued', 'contrast', 'control', 'controlled', 'copious', 'copiously', 'copiously irrigated', 'cord', 'coronary', 'coronary artery', 'correct', 'count', 'counts', 'counts correct', 'course', 'created', 'ct', 'ct scan', 'cuff', 'current', 'currently', 'cut', 'cyst', 'cystic', 'daily', 'day', 'days', 'decompression', 'decreased', 'deep', 'defect', 'deformity', 'degenerative', 'degree', 'degrees', 'delivered', 'delivery', 'demonstrated', 'denied', 'denies', 'department', 'descending', 'described', 'description', 'description procedure', 'description procedure patient', 'developed', 'device', 'diabetes', 'diagnoses', 'diagnosis', 'diagnosis right', 'diameter', 'did', 'diet', 'difficult', 'difficulty', 'dilated', 'direct', 'directed', 'disc', 'discharge', 'discharged', 'discussed', 'discussed patient', 'disease', 'disk', 'dissected', 'dissection', 'dissection carried', 'distal', 'distally', 'distress', 'divided', 'does', 'doing', 'dorsal', 'dose', 'double', 'dr', 'dr xyz', 'drain', 'drainage', 'drains', 'draped', 'draped sterile', 'draped usual', 'draped usual sterile', 'dressing', 'dressing applied', 'drill', 'drug', 'dry', 'duct', 'dura', 'ear', 'easily', 'edema', 'edges', 'effusion', 'ekg', 'electrocautery', 'elevated', 'emergency', 'emergency room', 'end', 'endotracheal', 'endotracheal anesthesia', 'enlarged', 'entered', 'entire', 'epidural', 'epinephrine', 'erythema', 'esophagus', 'estimated', 'estimated blood', 'estimated blood loss', 'evaluated', 'evaluation', 'evidence', 'exam', 'examination', 'examined', 'excellent', 'excised', 'excision', 'explained', 'exposed', 'extended', 'extending', 'extension', 'extensor', 'external', 'extremities', 'extremity', 'extubated', 'eye', 'eyes', 'face', 'facial', 'failure', 'family', 'family history', 'fascia', 'fashion', 'fat', 'felt', 'female', 'femoral', 'fever', 'field', 'fifth', 'final', 'findings', 'finger', 'fixation', 'flap', 'flexor', 'flow', 'fluid', 'fluoroscopy', 'flushed', 'foley', 'foley catheter', 'follow', 'followed', 'following', 'followup', 'foot', 'forceps', 'foreign', 'fracture', 'free', 'french', 'frontal', 'function', 'fusion', 'gait', 'gallbladder', 'gauge', 'general', 'general anesthesia', 'general endotracheal', 'general endotracheal anesthesia', 'given', 'going', 'good', 'good condition', 'grade', 'graft', 'grasped', 'greater', 'gross', 'guide', 'guidewire', 'half', 'hand', 'having', 'head', 'headaches', 'heart', 'heart rate', 'heent', 'help', 'hematoma', 'hemostasis', 'hernia', 'high', 'hip', 'history', 'history patient', 'history present', 'history present illness', 'home', 'hospital', 'hours', 'hypertension', 'identified', 'ii', 'illness', 'illness patient', 'images', 'immediately', 'impression', 'improved', 'incised', 'incision', 'incisions', 'include', 'including', 'increased', 'indication', 'indications', 'infection', 'inferior', 'inferiorly', 'infiltrated', 'inflated', 'informed', 'informed consent', 'informed consent obtained', 'inguinal', 'initial', 'initially', 'injected', 'injection', 'injury', 'inserted', 'insertion', 'inspected', 'instructions', 'intact', 'internal', 'interrupted', 'intraoperative', 'intravenous', 'introduced', 'irrigated', 'irrigation', 'iv', 'joint', 'junction', 'just', 'kidney', 'knee', 'known', 'l4', 'l4 l5', 'l5', 'l5 s1', 'laboratory', 'laparoscopic', 'large', 'later', 'lateral', 'laterally', 'layer', 'layers', 'left', 'left lower', 'left upper', 'left ventricular', 'leg', 'length', 'lens', 'lesion', 'lesions', 'level', 'lid', 'lidocaine', 'ligament', 'ligated', 'light', 'like', 'likely', 'limited', 'limits', 'line', 'little', 'liver', 'lobe', 'local', 'long', 'loss', 'low', 'lower', 'lower extremity', 'lumbar', 'lumen', 'lung', 'lungs', 'lungs clear', 'lymph', 'main', 'make', 'male', 'manner', 'marcaine', 'marked', 'mass', 'masses', 'material', 'medial', 'medially', 'medical', 'medical history', 'medication', 'medications', 'metatarsal', 'mg', 'mg daily', 'mid', 'middle', 'midline', 'mild', 'minimal', 'minute', 'minutes', 'ml', 'mm', 'mmhg', 'moderate', 'monocryl', 'month', 'months', 'morning', 'mother', 'motion', 'motor', 'mouth', 'mr', 'mri', 'mucosa', 'multiple', 'murmur', 'muscle', 'muscles', 'nasal', 'nausea', 'near', 'neck', 'need', 'needed', 'needle', 'negative', 'nerve', 'nerve root', 'nerves', 'neurologic', 'new', 'night', 'node', 'nodes', 'non', 'nontender', 'normal', 'normal limits', 'nose', 'note', 'noted', 'nylon', 'oblique', 'obstruction', 'obtained', 'obtained patient', 'obvious', 'office', 'old', 'old female', 'old male', 'open', 'opened', 'operating', 'operating room', 'operating room placed', 'operating table', 'operation', 'operative', 'operative procedure', 'oral', 'order', 'oriented', 'oropharynx', 'osteotomy', 'pain', 'palpable', 'parents', 'partial', 'passed', 'past', 'past medical', 'past medical history', 'patent', 'pathology', 'patient brought', 'patient brought operating', 'patient given', 'patient placed', 'patient prepped', 'patient prepped draped', 'patient taken', 'patient taken operating', 'patient tolerated', 'patient tolerated procedure', 'pedicle', 'pelvic', 'pelvis', 'perform', 'performed', 'peritoneum', 'physical', 'physical examination', 'physician', 'place', 'placed', 'placed supine', 'placed supine position', 'placement', 'plain', 'plan', 'plantar', 'plate', 'pleural', 'point', 'port', 'portion', 'position', 'positioned', 'positive', 'possible', 'post', 'posterior', 'posteriorly', 'postoperative', 'postoperative diagnoses', 'postoperative diagnosis', 'pounds', 'pregnancy', 'preoperative', 'preoperative diagnoses', 'preoperative diagnosis', 'prepped', 'prepped draped', 'prepped draped usual', 'present', 'present illness', 'present illness patient', 'presented', 'presents', 'pressure', 'previous', 'previously', 'primary', 'prior', 'probably', 'problems', 'procedure', 'procedure patient', 'procedure patient brought', 'procedure patient taken', 'procedure performed', 'procedures', 'proceed', 'process', 'prolene', 'prostate', 'proximal', 'proximally', 'pulmonary', 'pulse', 'quadrant', 'questions', 'quite', 'radial', 'range', 'range motion', 'rate', 'rate rhythm', 'ray', 'reapproximated', 'reason', 'received', 'recent', 'recently', 'recommended', 'recovery', 'recovery room', 'recovery room stable', 'rectal', 'rectus', 'recurrent', 'reduction', 'reflected', 'reflexes', 'region', 'regular', 'regular rate', 'regular rate rhythm', 'release', 'released', 'remained', 'remaining', 'removal', 'remove', 'removed', 'renal', 'repair', 'repeat', 'reported', 'resected', 'resection', 'residual', 'respiratory', 'rest', 'results', 'retracted', 'return', 'returned', 'revealed', 'reveals', 'review', 'review systems', 'reviewed', 'rhythm', 'right', 'right coronary', 'right coronary artery', 'right eye', 'right foot', 'right lower', 'right upper', 'ring', 'risk', 'risks', 'risks benefits', 'room', 'room placed', 'room placed supine', 'room stable', 'room stable condition', 'root', 'round', 'routine', 'running', 's1', 'sac', 'saline', 'satisfactory', 'satisfactory condition', 'saw', 'scalpel', 'scan', 'scissors', 'scope', 'screw', 'screws', 'second', 'secondary', 'section', 'secured', 'sedation', 'seen', 'segment', 'sensation', 'sensory', 'sent', 'septum', 'severe', 'sharp', 'sheath', 'short', 'shortness', 'shortness breath', 'shoulder', 'showed', 'shows', 'sided', 'significant', 'signs', 'silk', 'similar', 'simple', 'single', 'sinus', 'site', 'sites', 'size', 'skin', 'skin closed', 'skin incision', 'sleep', 'slightly', 'small', 'social', 'social history', 'soft', 'soft tissue', 'solution', 'sounds', 'space', 'specimen', 'specimens', 'speculum', 'speech', 'spinal', 'spine', 'sponge', 'stable', 'stable condition', 'stage', 'standard', 'staples', 'started', 'stated', 'states', 'status', 'status post', 'stenosis', 'stent', 'steri', 'steri strips', 'sterile', 'sterile dressing', 'sterile fashion', 'stitch', 'stomach', 'straight', 'strength', 'stress', 'strips', 'structures', 'studies', 'study', 'subcutaneous', 'subcutaneous tissue', 'subcuticular', 'subsequently', 'suction', 'suctioned', 'suite', 'superficial', 'superior', 'superiorly', 'supine', 'supine position', 'supple', 'surface', 'surgery', 'surgical', 'suture', 'sutured', 'sutures', 'swelling', 'symptoms', 'syndrome', 'systems', 'table', 'taken', 'taken operating', 'taken operating room', 'taken recovery', 'taken recovery room', 'taking', 'tear', 'technique', 'teeth', 'temperature', 'temporal', 'tenderness', 'tendon', 'test', 'testing', 'therapy', 'throat', 'thyroid', 'tibial', 'tied', 'time', 'times', 'tip', 'tissue', 'tissues', 'today', 'toe', 'tolerated', 'tolerated procedure', 'tongue', 'tooth', 'total', 'tourniquet', 'trachea', 'transected', 'transferred', 'transverse', 'treated', 'treatment', 'trocar', 'tube', 'tubes', 'tumor', 'tunnel', 'turned', 'type', 'ulnar', 'ultrasound', 'unable', 'underlying', 'underwent', 'unit', 'units', 'unremarkable', 'upper', 'upper extremity', 'upper lobe', 'ureteral', 'urine', 'use', 'used', 'using', 'using vicryl', 'usual', 'usual fashion', 'usual sterile', 'usual sterile fashion', 'uterine', 'uterus', 'utilized', 'utilizing', 'vaginal', 'valve', 'vascular', 'vein', 'venous', 'ventricle', 'ventricular', 'vertebral', 'vessel', 'vessels', 'vicryl', 'vicryl suture', 'view', 'vision', 'visit', 'visual', 'visualization', 'visualized', 'vital', 'vital signs', 'vomiting', 'wall', 'way', 'weakness', 'week', 'weeks', 'weight', 'went', 'white', 'wire', 'withdrawn', 'work', 'wound', 'wrist', 'xylocaine', 'xyz', 'year', 'year old', 'year old female', 'year old male', 'years']\n"
     ]
    },
    {
     "name": "stderr",
     "output_type": "stream",
     "text": [
      "C:\\Users\\monar\\anaconda3\\lib\\site-packages\\sklearn\\utils\\deprecation.py:87: FutureWarning: Function get_feature_names is deprecated; get_feature_names is deprecated in 1.0 and will be removed in 1.2. Please use get_feature_names_out instead.\n",
      "  warnings.warn(msg, category=FutureWarning)\n"
     ]
    }
   ],
   "source": [
    "vectorizer = TfidfVectorizer(analyzer='word', stop_words='english',ngram_range=(1,3), max_df=0.75, use_idf=True, smooth_idf=True, max_features=1000)\n",
    "tfIdfMat  = vectorizer.fit_transform(df['transcription'].tolist() )\n",
    "feature_names = sorted(vectorizer.get_feature_names())\n",
    "print(feature_names)"
   ]
  },
  {
   "cell_type": "code",
   "execution_count": 58,
   "id": "f7e702a4",
   "metadata": {},
   "outputs": [
    {
     "data": {
      "text/plain": [
       "array([' Allergy / Immunology', ' Bariatrics',\n",
       "       ' Cardiovascular / Pulmonary', ' Dentistry', ' Urology',\n",
       "       ' General Medicine', ' Surgery', ' Speech - Language',\n",
       "       ' SOAP / Chart / Progress Notes', ' Sleep Medicine',\n",
       "       ' Rheumatology', ' Radiology', ' Psychiatry / Psychology',\n",
       "       ' Podiatry', ' Physical Medicine - Rehab',\n",
       "       ' Pediatrics - Neonatal', ' Pain Management', ' Orthopedic',\n",
       "       ' Ophthalmology', ' Office Notes', ' Obstetrics / Gynecology',\n",
       "       ' Neurosurgery', ' Neurology', ' Nephrology', ' Letters',\n",
       "       ' Lab Medicine - Pathology', ' IME-QME-Work Comp etc.',\n",
       "       ' Hospice - Palliative Care', ' Hematology - Oncology',\n",
       "       ' Gastroenterology', ' ENT - Otolaryngology', ' Endocrinology',\n",
       "       ' Emergency Room Reports', ' Discharge Summary',\n",
       "       ' Diets and Nutritions', ' Dermatology',\n",
       "       ' Cosmetic / Plastic Surgery', ' Consult - History and Phy.',\n",
       "       ' Chiropractic'], dtype=object)"
      ]
     },
     "execution_count": 58,
     "metadata": {},
     "output_type": "execute_result"
    }
   ],
   "source": [
    "df['medical_specialty'].unique()"
   ]
  },
  {
   "cell_type": "code",
   "execution_count": 64,
   "id": "948b9d3d",
   "metadata": {},
   "outputs": [],
   "source": [
    "specialty_counts = df['medical_specialty'].value_counts()\n",
    "mask = df['medical_specialty'].isin(specialty_counts.index[specialty_counts > 40])\n",
    "df2 = df[mask]"
   ]
  },
  {
   "cell_type": "code",
   "execution_count": 67,
   "id": "d13e1f02",
   "metadata": {},
   "outputs": [
    {
     "data": {
      "text/plain": [
       " Surgery                          1021\n",
       " Orthopedic                        303\n",
       " Cardiovascular / Pulmonary        280\n",
       " Radiology                         251\n",
       " Consult - History and Phy.        234\n",
       " Gastroenterology                  195\n",
       " Neurology                         168\n",
       " General Medicine                  146\n",
       " SOAP / Chart / Progress Notes     142\n",
       " Urology                           140\n",
       " Obstetrics / Gynecology           130\n",
       " ENT - Otolaryngology               84\n",
       " Neurosurgery                       81\n",
       " Ophthalmology                      79\n",
       " Discharge Summary                  77\n",
       " Nephrology                         63\n",
       " Hematology - Oncology              62\n",
       " Pain Management                    58\n",
       " Office Notes                       44\n",
       " Pediatrics - Neonatal              42\n",
       " Podiatry                           42\n",
       " Emergency Room Reports             31\n",
       " Dermatology                        25\n",
       " Dentistry                          25\n",
       " Cosmetic / Plastic Surgery         25\n",
       " Letters                            20\n",
       " Psychiatry / Psychology            19\n",
       " Sleep Medicine                     18\n",
       " Bariatrics                         18\n",
       " Endocrinology                      15\n",
       " Physical Medicine - Rehab          11\n",
       " Diets and Nutritions               10\n",
       " Speech - Language                   8\n",
       " Lab Medicine - Pathology            8\n",
       " Rheumatology                        7\n",
       " Hospice - Palliative Care           5\n",
       " Chiropractic                        4\n",
       " IME-QME-Work Comp etc.              4\n",
       " Allergy / Immunology                3\n",
       "Name: medical_specialty, dtype: int64"
      ]
     },
     "execution_count": 67,
     "metadata": {},
     "output_type": "execute_result"
    }
   ],
   "source": [
    "df['medical_specialty'].value_counts()"
   ]
  },
  {
   "cell_type": "code",
   "execution_count": 126,
   "id": "f725a41f",
   "metadata": {},
   "outputs": [
    {
     "data": {
      "text/plain": [
       "21"
      ]
     },
     "execution_count": 126,
     "metadata": {},
     "output_type": "execute_result"
    }
   ],
   "source": []
  },
  {
   "cell_type": "code",
   "execution_count": 106,
   "id": "01c30b50",
   "metadata": {},
   "outputs": [
    {
     "data": {
      "text/html": [
       "<div>\n",
       "<style scoped>\n",
       "    .dataframe tbody tr th:only-of-type {\n",
       "        vertical-align: middle;\n",
       "    }\n",
       "\n",
       "    .dataframe tbody tr th {\n",
       "        vertical-align: top;\n",
       "    }\n",
       "\n",
       "    .dataframe thead th {\n",
       "        text-align: right;\n",
       "    }\n",
       "</style>\n",
       "<table border=\"1\" class=\"dataframe\">\n",
       "  <thead>\n",
       "    <tr style=\"text-align: right;\">\n",
       "      <th></th>\n",
       "      <th>description</th>\n",
       "      <th>medical_specialty</th>\n",
       "      <th>sample_name</th>\n",
       "      <th>transcription</th>\n",
       "      <th>keywords</th>\n",
       "    </tr>\n",
       "  </thead>\n",
       "  <tbody>\n",
       "    <tr>\n",
       "      <th>0</th>\n",
       "      <td>A 23-year-old white female presents with comp...</td>\n",
       "      <td>Allergy / Immunology</td>\n",
       "      <td>Allergic Rhinitis</td>\n",
       "      <td>SUBJECTIVE:,  This 23-year-old white female pr...</td>\n",
       "      <td>[allergy / immunology, allergic rhinitis, alle...</td>\n",
       "    </tr>\n",
       "    <tr>\n",
       "      <th>1</th>\n",
       "      <td>Consult for laparoscopic gastric bypass.</td>\n",
       "      <td>Bariatrics</td>\n",
       "      <td>Laparoscopic Gastric Bypass Consult - 2</td>\n",
       "      <td>PAST MEDICAL HISTORY:, He has difficulty climb...</td>\n",
       "      <td>[bariatrics, laparoscopic gastric bypass, weig...</td>\n",
       "    </tr>\n",
       "    <tr>\n",
       "      <th>2</th>\n",
       "      <td>Consult for laparoscopic gastric bypass.</td>\n",
       "      <td>Bariatrics</td>\n",
       "      <td>Laparoscopic Gastric Bypass Consult - 1</td>\n",
       "      <td>HISTORY OF PRESENT ILLNESS: , I have seen ABC ...</td>\n",
       "      <td>[bariatrics, laparoscopic gastric bypass, hear...</td>\n",
       "    </tr>\n",
       "    <tr>\n",
       "      <th>3</th>\n",
       "      <td>2-D M-Mode. Doppler.</td>\n",
       "      <td>Cardiovascular / Pulmonary</td>\n",
       "      <td>2-D Echocardiogram - 1</td>\n",
       "      <td>2-D M-MODE: , ,1.  Left atrial enlargement wit...</td>\n",
       "      <td>[cardiovascular / pulmonary, 2-d m-mode, doppl...</td>\n",
       "    </tr>\n",
       "    <tr>\n",
       "      <th>4</th>\n",
       "      <td>2-D Echocardiogram</td>\n",
       "      <td>Cardiovascular / Pulmonary</td>\n",
       "      <td>2-D Echocardiogram - 2</td>\n",
       "      <td>1.  The left ventricular cavity size and wall ...</td>\n",
       "      <td>[cardiovascular / pulmonary, 2-d, doppler, ech...</td>\n",
       "    </tr>\n",
       "    <tr>\n",
       "      <th>...</th>\n",
       "      <td>...</td>\n",
       "      <td>...</td>\n",
       "      <td>...</td>\n",
       "      <td>...</td>\n",
       "      <td>...</td>\n",
       "    </tr>\n",
       "    <tr>\n",
       "      <th>3893</th>\n",
       "      <td>Patient suffered from morbid obesity for many...</td>\n",
       "      <td>Bariatrics</td>\n",
       "      <td>Discharge Summary - Gastric Bypass</td>\n",
       "      <td>ADMISSION DIAGNOSIS:,  Morbid obesity.  BMI is...</td>\n",
       "      <td>[bariatrics, laparoscopic gastric bypass, gast...</td>\n",
       "    </tr>\n",
       "    <tr>\n",
       "      <th>3894</th>\n",
       "      <td>Patient presented to the Bariatric Surgery Se...</td>\n",
       "      <td>Bariatrics</td>\n",
       "      <td>Bariatric Consult - Surgical Weight Loss - 4</td>\n",
       "      <td>HISTORY OF PRESENT ILLNESS:,  Ms. A is a 55-ye...</td>\n",
       "      <td>[bariatrics, jenny craig, medifast, nutrisyste...</td>\n",
       "    </tr>\n",
       "    <tr>\n",
       "      <th>3895</th>\n",
       "      <td>Evaluation for elective surgical weight loss ...</td>\n",
       "      <td>Bariatrics</td>\n",
       "      <td>Bariatric Consult - Surgical Weight Loss - 2</td>\n",
       "      <td>PAST MEDICAL HISTORY:  ,She had a negative str...</td>\n",
       "      <td>[bariatrics, elective surgical weight loss, su...</td>\n",
       "    </tr>\n",
       "    <tr>\n",
       "      <th>3896</th>\n",
       "      <td>Chronic glossitis, xerostomia, probable envir...</td>\n",
       "      <td>Allergy / Immunology</td>\n",
       "      <td>Evaluation of Allergies</td>\n",
       "      <td>HISTORY:,  A 55-year-old female presents self-...</td>\n",
       "      <td>[allergy / immunology, chronic glossitis, xero...</td>\n",
       "    </tr>\n",
       "    <tr>\n",
       "      <th>3897</th>\n",
       "      <td>This is a 14-month-old baby boy Caucasian who...</td>\n",
       "      <td>Allergy / Immunology</td>\n",
       "      <td>Kawasaki Disease - Discharge Summary</td>\n",
       "      <td>ADMITTING DIAGNOSIS: , Kawasaki disease.,DISCH...</td>\n",
       "      <td>[allergy / immunology, mucous membranes, conju...</td>\n",
       "    </tr>\n",
       "  </tbody>\n",
       "</table>\n",
       "<p>3898 rows × 5 columns</p>\n",
       "</div>"
      ],
      "text/plain": [
       "                                            description  \\\n",
       "0      A 23-year-old white female presents with comp...   \n",
       "1              Consult for laparoscopic gastric bypass.   \n",
       "2              Consult for laparoscopic gastric bypass.   \n",
       "3                                2-D M-Mode. Doppler.     \n",
       "4                                    2-D Echocardiogram   \n",
       "...                                                 ...   \n",
       "3893   Patient suffered from morbid obesity for many...   \n",
       "3894   Patient presented to the Bariatric Surgery Se...   \n",
       "3895   Evaluation for elective surgical weight loss ...   \n",
       "3896   Chronic glossitis, xerostomia, probable envir...   \n",
       "3897   This is a 14-month-old baby boy Caucasian who...   \n",
       "\n",
       "                medical_specialty  \\\n",
       "0            Allergy / Immunology   \n",
       "1                      Bariatrics   \n",
       "2                      Bariatrics   \n",
       "3      Cardiovascular / Pulmonary   \n",
       "4      Cardiovascular / Pulmonary   \n",
       "...                           ...   \n",
       "3893                   Bariatrics   \n",
       "3894                   Bariatrics   \n",
       "3895                   Bariatrics   \n",
       "3896         Allergy / Immunology   \n",
       "3897         Allergy / Immunology   \n",
       "\n",
       "                                         sample_name  \\\n",
       "0                                 Allergic Rhinitis    \n",
       "1           Laparoscopic Gastric Bypass Consult - 2    \n",
       "2           Laparoscopic Gastric Bypass Consult - 1    \n",
       "3                            2-D Echocardiogram - 1    \n",
       "4                            2-D Echocardiogram - 2    \n",
       "...                                              ...   \n",
       "3893             Discharge Summary - Gastric Bypass    \n",
       "3894   Bariatric Consult - Surgical Weight Loss - 4    \n",
       "3895   Bariatric Consult - Surgical Weight Loss - 2    \n",
       "3896                        Evaluation of Allergies    \n",
       "3897           Kawasaki Disease - Discharge Summary    \n",
       "\n",
       "                                          transcription  \\\n",
       "0     SUBJECTIVE:,  This 23-year-old white female pr...   \n",
       "1     PAST MEDICAL HISTORY:, He has difficulty climb...   \n",
       "2     HISTORY OF PRESENT ILLNESS: , I have seen ABC ...   \n",
       "3     2-D M-MODE: , ,1.  Left atrial enlargement wit...   \n",
       "4     1.  The left ventricular cavity size and wall ...   \n",
       "...                                                 ...   \n",
       "3893  ADMISSION DIAGNOSIS:,  Morbid obesity.  BMI is...   \n",
       "3894  HISTORY OF PRESENT ILLNESS:,  Ms. A is a 55-ye...   \n",
       "3895  PAST MEDICAL HISTORY:  ,She had a negative str...   \n",
       "3896  HISTORY:,  A 55-year-old female presents self-...   \n",
       "3897  ADMITTING DIAGNOSIS: , Kawasaki disease.,DISCH...   \n",
       "\n",
       "                                               keywords  \n",
       "0     [allergy / immunology, allergic rhinitis, alle...  \n",
       "1     [bariatrics, laparoscopic gastric bypass, weig...  \n",
       "2     [bariatrics, laparoscopic gastric bypass, hear...  \n",
       "3     [cardiovascular / pulmonary, 2-d m-mode, doppl...  \n",
       "4     [cardiovascular / pulmonary, 2-d, doppler, ech...  \n",
       "...                                                 ...  \n",
       "3893  [bariatrics, laparoscopic gastric bypass, gast...  \n",
       "3894  [bariatrics, jenny craig, medifast, nutrisyste...  \n",
       "3895  [bariatrics, elective surgical weight loss, su...  \n",
       "3896  [allergy / immunology, chronic glossitis, xero...  \n",
       "3897  [allergy / immunology, mucous membranes, conju...  \n",
       "\n",
       "[3898 rows x 5 columns]"
      ]
     },
     "execution_count": 106,
     "metadata": {},
     "output_type": "execute_result"
    }
   ],
   "source": [
    "df"
   ]
  },
  {
   "cell_type": "code",
   "execution_count": 124,
   "id": "a4632674",
   "metadata": {},
   "outputs": [
    {
     "data": {
      "text/plain": [
       "(3642,)"
      ]
     },
     "execution_count": 124,
     "metadata": {},
     "output_type": "execute_result"
    }
   ],
   "source": []
  },
  {
   "cell_type": "code",
   "execution_count": 116,
   "id": "4d208b9c",
   "metadata": {},
   "outputs": [
    {
     "ename": "KeyError",
     "evalue": "\"['medical_speciality'] not in index\"",
     "output_type": "error",
     "traceback": [
      "\u001b[1;31m---------------------------------------------------------------------------\u001b[0m",
      "\u001b[1;31mKeyError\u001b[0m                                  Traceback (most recent call last)",
      "\u001b[1;32m~\\AppData\\Local\\Temp\\ipykernel_31236\\2525406766.py\u001b[0m in \u001b[0;36m<module>\u001b[1;34m\u001b[0m\n\u001b[0;32m      1\u001b[0m \u001b[0mcols\u001b[0m \u001b[1;33m=\u001b[0m \u001b[1;33m[\u001b[0m\u001b[1;34m'medical_speciality'\u001b[0m\u001b[1;33m,\u001b[0m \u001b[1;34m'tokenized'\u001b[0m\u001b[1;33m]\u001b[0m\u001b[1;33m\u001b[0m\u001b[1;33m\u001b[0m\u001b[0m\n\u001b[1;32m----> 2\u001b[1;33m \u001b[0mdf3\u001b[0m \u001b[1;33m=\u001b[0m \u001b[0mdf2\u001b[0m\u001b[1;33m[\u001b[0m\u001b[0mcols\u001b[0m\u001b[1;33m]\u001b[0m\u001b[1;33m\u001b[0m\u001b[1;33m\u001b[0m\u001b[0m\n\u001b[0m",
      "\u001b[1;32m~\\anaconda3\\lib\\site-packages\\pandas\\core\\frame.py\u001b[0m in \u001b[0;36m__getitem__\u001b[1;34m(self, key)\u001b[0m\n\u001b[0;32m   3509\u001b[0m             \u001b[1;32mif\u001b[0m \u001b[0mis_iterator\u001b[0m\u001b[1;33m(\u001b[0m\u001b[0mkey\u001b[0m\u001b[1;33m)\u001b[0m\u001b[1;33m:\u001b[0m\u001b[1;33m\u001b[0m\u001b[1;33m\u001b[0m\u001b[0m\n\u001b[0;32m   3510\u001b[0m                 \u001b[0mkey\u001b[0m \u001b[1;33m=\u001b[0m \u001b[0mlist\u001b[0m\u001b[1;33m(\u001b[0m\u001b[0mkey\u001b[0m\u001b[1;33m)\u001b[0m\u001b[1;33m\u001b[0m\u001b[1;33m\u001b[0m\u001b[0m\n\u001b[1;32m-> 3511\u001b[1;33m             \u001b[0mindexer\u001b[0m \u001b[1;33m=\u001b[0m \u001b[0mself\u001b[0m\u001b[1;33m.\u001b[0m\u001b[0mcolumns\u001b[0m\u001b[1;33m.\u001b[0m\u001b[0m_get_indexer_strict\u001b[0m\u001b[1;33m(\u001b[0m\u001b[0mkey\u001b[0m\u001b[1;33m,\u001b[0m \u001b[1;34m\"columns\"\u001b[0m\u001b[1;33m)\u001b[0m\u001b[1;33m[\u001b[0m\u001b[1;36m1\u001b[0m\u001b[1;33m]\u001b[0m\u001b[1;33m\u001b[0m\u001b[1;33m\u001b[0m\u001b[0m\n\u001b[0m\u001b[0;32m   3512\u001b[0m \u001b[1;33m\u001b[0m\u001b[0m\n\u001b[0;32m   3513\u001b[0m         \u001b[1;31m# take() does not accept boolean indexers\u001b[0m\u001b[1;33m\u001b[0m\u001b[1;33m\u001b[0m\u001b[0m\n",
      "\u001b[1;32m~\\anaconda3\\lib\\site-packages\\pandas\\core\\indexes\\base.py\u001b[0m in \u001b[0;36m_get_indexer_strict\u001b[1;34m(self, key, axis_name)\u001b[0m\n\u001b[0;32m   5794\u001b[0m             \u001b[0mkeyarr\u001b[0m\u001b[1;33m,\u001b[0m \u001b[0mindexer\u001b[0m\u001b[1;33m,\u001b[0m \u001b[0mnew_indexer\u001b[0m \u001b[1;33m=\u001b[0m \u001b[0mself\u001b[0m\u001b[1;33m.\u001b[0m\u001b[0m_reindex_non_unique\u001b[0m\u001b[1;33m(\u001b[0m\u001b[0mkeyarr\u001b[0m\u001b[1;33m)\u001b[0m\u001b[1;33m\u001b[0m\u001b[1;33m\u001b[0m\u001b[0m\n\u001b[0;32m   5795\u001b[0m \u001b[1;33m\u001b[0m\u001b[0m\n\u001b[1;32m-> 5796\u001b[1;33m         \u001b[0mself\u001b[0m\u001b[1;33m.\u001b[0m\u001b[0m_raise_if_missing\u001b[0m\u001b[1;33m(\u001b[0m\u001b[0mkeyarr\u001b[0m\u001b[1;33m,\u001b[0m \u001b[0mindexer\u001b[0m\u001b[1;33m,\u001b[0m \u001b[0maxis_name\u001b[0m\u001b[1;33m)\u001b[0m\u001b[1;33m\u001b[0m\u001b[1;33m\u001b[0m\u001b[0m\n\u001b[0m\u001b[0;32m   5797\u001b[0m \u001b[1;33m\u001b[0m\u001b[0m\n\u001b[0;32m   5798\u001b[0m         \u001b[0mkeyarr\u001b[0m \u001b[1;33m=\u001b[0m \u001b[0mself\u001b[0m\u001b[1;33m.\u001b[0m\u001b[0mtake\u001b[0m\u001b[1;33m(\u001b[0m\u001b[0mindexer\u001b[0m\u001b[1;33m)\u001b[0m\u001b[1;33m\u001b[0m\u001b[1;33m\u001b[0m\u001b[0m\n",
      "\u001b[1;32m~\\anaconda3\\lib\\site-packages\\pandas\\core\\indexes\\base.py\u001b[0m in \u001b[0;36m_raise_if_missing\u001b[1;34m(self, key, indexer, axis_name)\u001b[0m\n\u001b[0;32m   5857\u001b[0m \u001b[1;33m\u001b[0m\u001b[0m\n\u001b[0;32m   5858\u001b[0m             \u001b[0mnot_found\u001b[0m \u001b[1;33m=\u001b[0m \u001b[0mlist\u001b[0m\u001b[1;33m(\u001b[0m\u001b[0mensure_index\u001b[0m\u001b[1;33m(\u001b[0m\u001b[0mkey\u001b[0m\u001b[1;33m)\u001b[0m\u001b[1;33m[\u001b[0m\u001b[0mmissing_mask\u001b[0m\u001b[1;33m.\u001b[0m\u001b[0mnonzero\u001b[0m\u001b[1;33m(\u001b[0m\u001b[1;33m)\u001b[0m\u001b[1;33m[\u001b[0m\u001b[1;36m0\u001b[0m\u001b[1;33m]\u001b[0m\u001b[1;33m]\u001b[0m\u001b[1;33m.\u001b[0m\u001b[0munique\u001b[0m\u001b[1;33m(\u001b[0m\u001b[1;33m)\u001b[0m\u001b[1;33m)\u001b[0m\u001b[1;33m\u001b[0m\u001b[1;33m\u001b[0m\u001b[0m\n\u001b[1;32m-> 5859\u001b[1;33m             \u001b[1;32mraise\u001b[0m \u001b[0mKeyError\u001b[0m\u001b[1;33m(\u001b[0m\u001b[1;34mf\"{not_found} not in index\"\u001b[0m\u001b[1;33m)\u001b[0m\u001b[1;33m\u001b[0m\u001b[1;33m\u001b[0m\u001b[0m\n\u001b[0m\u001b[0;32m   5860\u001b[0m \u001b[1;33m\u001b[0m\u001b[0m\n\u001b[0;32m   5861\u001b[0m     \u001b[1;33m@\u001b[0m\u001b[0moverload\u001b[0m\u001b[1;33m\u001b[0m\u001b[1;33m\u001b[0m\u001b[0m\n",
      "\u001b[1;31mKeyError\u001b[0m: \"['medical_speciality'] not in index\""
     ]
    }
   ],
   "source": [
    "cols = ['medical_speciality', 'tokenized']\n",
    "df3 = df2[cols]"
   ]
  },
  {
   "cell_type": "code",
   "execution_count": 76,
   "id": "2e64ab64",
   "metadata": {},
   "outputs": [
    {
     "name": "stdout",
     "output_type": "stream",
     "text": [
      "Requirement already satisfied: transformers in c:\\users\\monar\\anaconda3\\lib\\site-packages (4.35.0)\n",
      "Requirement already satisfied: datasets in c:\\users\\monar\\anaconda3\\lib\\site-packages (2.14.6)\n",
      "Collecting evaluate\n",
      "  Downloading evaluate-0.4.1-py3-none-any.whl (84 kB)\n",
      "     ---------------------------------------- 84.1/84.1 kB 4.6 MB/s eta 0:00:00\n",
      "Requirement already satisfied: filelock in c:\\users\\monar\\anaconda3\\lib\\site-packages (from transformers) (3.6.0)\n",
      "Requirement already satisfied: pyyaml>=5.1 in c:\\users\\monar\\anaconda3\\lib\\site-packages (from transformers) (6.0)\n",
      "Requirement already satisfied: safetensors>=0.3.1 in c:\\users\\monar\\anaconda3\\lib\\site-packages (from transformers) (0.4.0)\n",
      "Requirement already satisfied: numpy>=1.17 in c:\\users\\monar\\anaconda3\\lib\\site-packages (from transformers) (1.23.5)\n",
      "Requirement already satisfied: regex!=2019.12.17 in c:\\users\\monar\\anaconda3\\lib\\site-packages (from transformers) (2022.7.9)\n",
      "Requirement already satisfied: packaging>=20.0 in c:\\users\\monar\\anaconda3\\lib\\site-packages (from transformers) (21.3)\n",
      "Requirement already satisfied: huggingface-hub<1.0,>=0.16.4 in c:\\users\\monar\\anaconda3\\lib\\site-packages (from transformers) (0.17.3)\n",
      "Requirement already satisfied: tqdm>=4.27 in c:\\users\\monar\\anaconda3\\lib\\site-packages (from transformers) (4.64.1)\n",
      "Requirement already satisfied: tokenizers<0.15,>=0.14 in c:\\users\\monar\\anaconda3\\lib\\site-packages (from transformers) (0.14.1)\n",
      "Requirement already satisfied: requests in c:\\users\\monar\\anaconda3\\lib\\site-packages (from transformers) (2.28.1)\n",
      "Requirement already satisfied: aiohttp in c:\\users\\monar\\anaconda3\\lib\\site-packages (from datasets) (3.8.6)\n",
      "Requirement already satisfied: multiprocess in c:\\users\\monar\\anaconda3\\lib\\site-packages (from datasets) (0.70.15)\n",
      "Requirement already satisfied: fsspec[http]<=2023.10.0,>=2023.1.0 in c:\\users\\monar\\anaconda3\\lib\\site-packages (from datasets) (2023.10.0)\n",
      "Requirement already satisfied: pyarrow>=8.0.0 in c:\\users\\monar\\anaconda3\\lib\\site-packages (from datasets) (14.0.1)\n",
      "Requirement already satisfied: pandas in c:\\users\\monar\\anaconda3\\lib\\site-packages (from datasets) (1.4.4)\n",
      "Requirement already satisfied: xxhash in c:\\users\\monar\\anaconda3\\lib\\site-packages (from datasets) (3.4.1)\n",
      "Requirement already satisfied: dill<0.3.8,>=0.3.0 in c:\\users\\monar\\anaconda3\\lib\\site-packages (from datasets) (0.3.7)\n",
      "Collecting responses<0.19\n",
      "  Downloading responses-0.18.0-py3-none-any.whl (38 kB)\n",
      "Requirement already satisfied: yarl<2.0,>=1.0 in c:\\users\\monar\\anaconda3\\lib\\site-packages (from aiohttp->datasets) (1.9.2)\n",
      "Requirement already satisfied: multidict<7.0,>=4.5 in c:\\users\\monar\\anaconda3\\lib\\site-packages (from aiohttp->datasets) (6.0.4)\n",
      "Requirement already satisfied: async-timeout<5.0,>=4.0.0a3 in c:\\users\\monar\\anaconda3\\lib\\site-packages (from aiohttp->datasets) (4.0.3)\n",
      "Requirement already satisfied: frozenlist>=1.1.1 in c:\\users\\monar\\anaconda3\\lib\\site-packages (from aiohttp->datasets) (1.4.0)\n",
      "Requirement already satisfied: aiosignal>=1.1.2 in c:\\users\\monar\\anaconda3\\lib\\site-packages (from aiohttp->datasets) (1.3.1)\n",
      "Requirement already satisfied: attrs>=17.3.0 in c:\\users\\monar\\anaconda3\\lib\\site-packages (from aiohttp->datasets) (21.4.0)\n",
      "Requirement already satisfied: charset-normalizer<4.0,>=2.0 in c:\\users\\monar\\anaconda3\\lib\\site-packages (from aiohttp->datasets) (2.0.4)\n",
      "Requirement already satisfied: typing-extensions>=3.7.4.3 in c:\\users\\monar\\anaconda3\\lib\\site-packages (from huggingface-hub<1.0,>=0.16.4->transformers) (4.3.0)\n",
      "Requirement already satisfied: pyparsing!=3.0.5,>=2.0.2 in c:\\users\\monar\\anaconda3\\lib\\site-packages (from packaging>=20.0->transformers) (3.0.9)\n",
      "Requirement already satisfied: idna<4,>=2.5 in c:\\users\\monar\\anaconda3\\lib\\site-packages (from requests->transformers) (3.3)\n",
      "Requirement already satisfied: urllib3<1.27,>=1.21.1 in c:\\users\\monar\\anaconda3\\lib\\site-packages (from requests->transformers) (1.26.11)\n",
      "Requirement already satisfied: certifi>=2017.4.17 in c:\\users\\monar\\anaconda3\\lib\\site-packages (from requests->transformers) (2022.9.14)\n",
      "Requirement already satisfied: colorama in c:\\users\\monar\\anaconda3\\lib\\site-packages (from tqdm>=4.27->transformers) (0.4.5)\n",
      "Requirement already satisfied: pytz>=2020.1 in c:\\users\\monar\\anaconda3\\lib\\site-packages (from pandas->datasets) (2022.1)\n",
      "Requirement already satisfied: python-dateutil>=2.8.1 in c:\\users\\monar\\anaconda3\\lib\\site-packages (from pandas->datasets) (2.8.2)\n",
      "Requirement already satisfied: six>=1.5 in c:\\users\\monar\\anaconda3\\lib\\site-packages (from python-dateutil>=2.8.1->pandas->datasets) (1.16.0)\n",
      "Installing collected packages: responses, evaluate\n",
      "Successfully installed evaluate-0.4.1 responses-0.18.0\n"
     ]
    },
    {
     "name": "stderr",
     "output_type": "stream",
     "text": [
      "WARNING: Ignoring invalid distribution -ensorflow-intel (c:\\users\\monar\\anaconda3\\lib\\site-packages)\n",
      "WARNING: Ignoring invalid distribution -ensorflow-intel (c:\\users\\monar\\anaconda3\\lib\\site-packages)\n",
      "WARNING: Ignoring invalid distribution -ensorflow-intel (c:\\users\\monar\\anaconda3\\lib\\site-packages)\n",
      "WARNING: Ignoring invalid distribution -ensorflow-intel (c:\\users\\monar\\anaconda3\\lib\\site-packages)\n",
      "WARNING: Ignoring invalid distribution -ensorflow-intel (c:\\users\\monar\\anaconda3\\lib\\site-packages)\n",
      "WARNING: Ignoring invalid distribution -ensorflow-intel (c:\\users\\monar\\anaconda3\\lib\\site-packages)\n",
      "WARNING: Ignoring invalid distribution -ensorflow-intel (c:\\users\\monar\\anaconda3\\lib\\site-packages)\n",
      "WARNING: Ignoring invalid distribution -ensorflow-intel (c:\\users\\monar\\anaconda3\\lib\\site-packages)\n"
     ]
    }
   ],
   "source": [
    "!pip install transformers datasets evaluate"
   ]
  },
  {
   "cell_type": "code",
   "execution_count": 77,
   "id": "f75d3fae",
   "metadata": {},
   "outputs": [
    {
     "data": {
      "application/vnd.jupyter.widget-view+json": {
       "model_id": "ff9f3e019c5d49aba7fe44eb92de259e",
       "version_major": 2,
       "version_minor": 0
      },
      "text/plain": [
       "Downloading tokenizer_config.json:   0%|          | 0.00/28.0 [00:00<?, ?B/s]"
      ]
     },
     "metadata": {},
     "output_type": "display_data"
    },
    {
     "name": "stderr",
     "output_type": "stream",
     "text": [
      "C:\\Users\\monar\\anaconda3\\lib\\site-packages\\huggingface_hub\\file_download.py:137: UserWarning: `huggingface_hub` cache-system uses symlinks by default to efficiently store duplicated files but your machine does not support them in C:\\Users\\monar\\.cache\\huggingface\\hub. Caching files will still work but in a degraded version that might require more space on your disk. This warning can be disabled by setting the `HF_HUB_DISABLE_SYMLINKS_WARNING` environment variable. For more details, see https://huggingface.co/docs/huggingface_hub/how-to-cache#limitations.\n",
      "To support symlinks on Windows, you either need to activate Developer Mode or to run Python as an administrator. In order to see activate developer mode, see this article: https://docs.microsoft.com/en-us/windows/apps/get-started/enable-your-device-for-development\n",
      "  warnings.warn(message)\n"
     ]
    },
    {
     "data": {
      "application/vnd.jupyter.widget-view+json": {
       "model_id": "dee70c6ce22e49178869d04825b85da0",
       "version_major": 2,
       "version_minor": 0
      },
      "text/plain": [
       "Downloading config.json:   0%|          | 0.00/483 [00:00<?, ?B/s]"
      ]
     },
     "metadata": {},
     "output_type": "display_data"
    },
    {
     "data": {
      "application/vnd.jupyter.widget-view+json": {
       "model_id": "29c9e08db1df448392c2bf1958df2527",
       "version_major": 2,
       "version_minor": 0
      },
      "text/plain": [
       "Downloading vocab.txt:   0%|          | 0.00/232k [00:00<?, ?B/s]"
      ]
     },
     "metadata": {},
     "output_type": "display_data"
    },
    {
     "data": {
      "application/vnd.jupyter.widget-view+json": {
       "model_id": "fa08a414936a411d95a668f6522fb7ad",
       "version_major": 2,
       "version_minor": 0
      },
      "text/plain": [
       "Downloading tokenizer.json:   0%|          | 0.00/466k [00:00<?, ?B/s]"
      ]
     },
     "metadata": {},
     "output_type": "display_data"
    }
   ],
   "source": [
    "from transformers import AutoTokenizer\n",
    "\n",
    "tokenizer = AutoTokenizer.from_pretrained(\"distilbert-base-uncased\")"
   ]
  },
  {
   "cell_type": "code",
   "execution_count": 83,
   "id": "30e8c095",
   "metadata": {},
   "outputs": [],
   "source": [
    "\n",
    "\n",
    "tokenized_series = []\n",
    "for item in df2['transcription']:\n",
    "    tokenized_series.append(tokenizer(item, truncation=True))"
   ]
  },
  {
   "cell_type": "code",
   "execution_count": 93,
   "id": "93150009",
   "metadata": {},
   "outputs": [
    {
     "name": "stderr",
     "output_type": "stream",
     "text": [
      "C:\\Users\\monar\\AppData\\Local\\Temp\\ipykernel_31236\\4135092222.py:1: SettingWithCopyWarning: \n",
      "A value is trying to be set on a copy of a slice from a DataFrame.\n",
      "Try using .loc[row_indexer,col_indexer] = value instead\n",
      "\n",
      "See the caveats in the documentation: https://pandas.pydata.org/pandas-docs/stable/user_guide/indexing.html#returning-a-view-versus-a-copy\n",
      "  df2['tokenized'] = tokenized_series\n"
     ]
    }
   ],
   "source": [
    "df2['tokenized'] = tokenized_series"
   ]
  },
  {
   "cell_type": "code",
   "execution_count": 108,
   "id": "a8e3e177",
   "metadata": {},
   "outputs": [],
   "source": [
    "from transformers import DataCollatorWithPadding\n",
    "\n",
    "data_collator = DataCollatorWithPadding(tokenizer=tokenizer)"
   ]
  },
  {
   "cell_type": "code",
   "execution_count": 111,
   "id": "f12afab0",
   "metadata": {},
   "outputs": [
    {
     "name": "stderr",
     "output_type": "stream",
     "text": [
      "Some weights of DistilBertForSequenceClassification were not initialized from the model checkpoint at distilbert-base-uncased and are newly initialized: ['classifier.weight', 'pre_classifier.weight', 'pre_classifier.bias', 'classifier.bias']\n",
      "You should probably TRAIN this model on a down-stream task to be able to use it for predictions and inference.\n"
     ]
    }
   ],
   "source": [
    "from transformers import AutoModelForSequenceClassification, TrainingArguments, Trainer\n",
    "\n",
    "model = AutoModelForSequenceClassification.from_pretrained(\"distilbert-base-uncased\", num_labels=21)"
   ]
  },
  {
   "cell_type": "code",
   "execution_count": 121,
   "id": "0434ba04",
   "metadata": {},
   "outputs": [],
   "source": [
    "from sklearn.model_selection import train_test_split\n",
    "\n",
    "df3 = df2[['medical_specialty','tokenized']]"
   ]
  },
  {
   "cell_type": "code",
   "execution_count": 122,
   "id": "9804c9a5",
   "metadata": {},
   "outputs": [
    {
     "data": {
      "text/html": [
       "<div>\n",
       "<style scoped>\n",
       "    .dataframe tbody tr th:only-of-type {\n",
       "        vertical-align: middle;\n",
       "    }\n",
       "\n",
       "    .dataframe tbody tr th {\n",
       "        vertical-align: top;\n",
       "    }\n",
       "\n",
       "    .dataframe thead th {\n",
       "        text-align: right;\n",
       "    }\n",
       "</style>\n",
       "<table border=\"1\" class=\"dataframe\">\n",
       "  <thead>\n",
       "    <tr style=\"text-align: right;\">\n",
       "      <th></th>\n",
       "      <th>medical_specialty</th>\n",
       "      <th>tokenized</th>\n",
       "    </tr>\n",
       "  </thead>\n",
       "  <tbody>\n",
       "    <tr>\n",
       "      <th>3</th>\n",
       "      <td>Cardiovascular / Pulmonary</td>\n",
       "      <td>[input_ids, attention_mask]</td>\n",
       "    </tr>\n",
       "    <tr>\n",
       "      <th>4</th>\n",
       "      <td>Cardiovascular / Pulmonary</td>\n",
       "      <td>[input_ids, attention_mask]</td>\n",
       "    </tr>\n",
       "    <tr>\n",
       "      <th>7</th>\n",
       "      <td>Cardiovascular / Pulmonary</td>\n",
       "      <td>[input_ids, attention_mask]</td>\n",
       "    </tr>\n",
       "    <tr>\n",
       "      <th>9</th>\n",
       "      <td>Cardiovascular / Pulmonary</td>\n",
       "      <td>[input_ids, attention_mask]</td>\n",
       "    </tr>\n",
       "    <tr>\n",
       "      <th>11</th>\n",
       "      <td>Cardiovascular / Pulmonary</td>\n",
       "      <td>[input_ids, attention_mask]</td>\n",
       "    </tr>\n",
       "    <tr>\n",
       "      <th>...</th>\n",
       "      <td>...</td>\n",
       "      <td>...</td>\n",
       "    </tr>\n",
       "    <tr>\n",
       "      <th>3883</th>\n",
       "      <td>Cardiovascular / Pulmonary</td>\n",
       "      <td>[input_ids, attention_mask]</td>\n",
       "    </tr>\n",
       "    <tr>\n",
       "      <th>3884</th>\n",
       "      <td>Cardiovascular / Pulmonary</td>\n",
       "      <td>[input_ids, attention_mask]</td>\n",
       "    </tr>\n",
       "    <tr>\n",
       "      <th>3885</th>\n",
       "      <td>Cardiovascular / Pulmonary</td>\n",
       "      <td>[input_ids, attention_mask]</td>\n",
       "    </tr>\n",
       "    <tr>\n",
       "      <th>3886</th>\n",
       "      <td>Cardiovascular / Pulmonary</td>\n",
       "      <td>[input_ids, attention_mask]</td>\n",
       "    </tr>\n",
       "    <tr>\n",
       "      <th>3887</th>\n",
       "      <td>Cardiovascular / Pulmonary</td>\n",
       "      <td>[input_ids, attention_mask]</td>\n",
       "    </tr>\n",
       "  </tbody>\n",
       "</table>\n",
       "<p>3642 rows × 2 columns</p>\n",
       "</div>"
      ],
      "text/plain": [
       "                medical_specialty                    tokenized\n",
       "3      Cardiovascular / Pulmonary  [input_ids, attention_mask]\n",
       "4      Cardiovascular / Pulmonary  [input_ids, attention_mask]\n",
       "7      Cardiovascular / Pulmonary  [input_ids, attention_mask]\n",
       "9      Cardiovascular / Pulmonary  [input_ids, attention_mask]\n",
       "11     Cardiovascular / Pulmonary  [input_ids, attention_mask]\n",
       "...                           ...                          ...\n",
       "3883   Cardiovascular / Pulmonary  [input_ids, attention_mask]\n",
       "3884   Cardiovascular / Pulmonary  [input_ids, attention_mask]\n",
       "3885   Cardiovascular / Pulmonary  [input_ids, attention_mask]\n",
       "3886   Cardiovascular / Pulmonary  [input_ids, attention_mask]\n",
       "3887   Cardiovascular / Pulmonary  [input_ids, attention_mask]\n",
       "\n",
       "[3642 rows x 2 columns]"
      ]
     },
     "execution_count": 122,
     "metadata": {},
     "output_type": "execute_result"
    }
   ],
   "source": [
    "X_train, X_test, y_train, y_test = train_test_split(\n",
    "...     X, y, test_size=0.33, random_state=42)"
   ]
  },
  {
   "cell_type": "code",
   "execution_count": 132,
   "id": "4c5cdfdd",
   "metadata": {},
   "outputs": [
    {
     "name": "stderr",
     "output_type": "stream",
     "text": [
      "C:\\Users\\monar\\AppData\\Local\\Temp\\ipykernel_31236\\3598368463.py:4: SettingWithCopyWarning: \n",
      "A value is trying to be set on a copy of a slice from a DataFrame.\n",
      "Try using .loc[row_indexer,col_indexer] = value instead\n",
      "\n",
      "See the caveats in the documentation: https://pandas.pydata.org/pandas-docs/stable/user_guide/indexing.html#returning-a-view-versus-a-copy\n",
      "  df2['medical_specialty_encoded'] = label_encoder.fit_transform(df3['medical_specialty'])\n",
      "C:\\Users\\monar\\AppData\\Local\\Temp\\ipykernel_31236\\3598368463.py:5: SettingWithCopyWarning: \n",
      "A value is trying to be set on a copy of a slice from a DataFrame.\n",
      "Try using .loc[row_indexer,col_indexer] = value instead\n",
      "\n",
      "See the caveats in the documentation: https://pandas.pydata.org/pandas-docs/stable/user_guide/indexing.html#returning-a-view-versus-a-copy\n",
      "  df3['medical_specialty_encoded'] = label_encoder.fit_transform(df3['medical_specialty'])\n"
     ]
    }
   ],
   "source": [
    "# Initialize LabelEncoder\n",
    "label_encoder = LabelEncoder()\n",
    "\n",
    "df2['medical_specialty_encoded'] = label_encoder.fit_transform(df3['medical_specialty'])\n",
    "df3['medical_specialty_encoded'] = label_encoder.fit_transform(df3['medical_specialty'])"
   ]
  },
  {
   "cell_type": "code",
   "execution_count": 133,
   "id": "7b1bfe13",
   "metadata": {},
   "outputs": [
    {
     "data": {
      "text/plain": [
       "19    1021\n",
       "13     303\n",
       "0      280\n",
       "17     251\n",
       "1      234\n",
       "4      195\n",
       "8      168\n",
       "5      146\n",
       "18     142\n",
       "20     140\n",
       "10     130\n",
       "3       84\n",
       "9       81\n",
       "12      79\n",
       "2       77\n",
       "7       63\n",
       "6       62\n",
       "14      58\n",
       "11      44\n",
       "16      42\n",
       "15      42\n",
       "Name: medical_specialty_encoded, dtype: int64"
      ]
     },
     "execution_count": 133,
     "metadata": {},
     "output_type": "execute_result"
    }
   ],
   "source": [
    "df2['medical_specialty_encoded'].value_counts()"
   ]
  },
  {
   "cell_type": "code",
   "execution_count": null,
   "id": "ccf59055",
   "metadata": {},
   "outputs": [],
   "source": []
  }
 ],
 "metadata": {
  "kernelspec": {
   "display_name": "Python 3 (ipykernel)",
   "language": "python",
   "name": "python3"
  },
  "language_info": {
   "codemirror_mode": {
    "name": "ipython",
    "version": 3
   },
   "file_extension": ".py",
   "mimetype": "text/x-python",
   "name": "python",
   "nbconvert_exporter": "python",
   "pygments_lexer": "ipython3",
   "version": "3.9.13"
  }
 },
 "nbformat": 4,
 "nbformat_minor": 5
}
